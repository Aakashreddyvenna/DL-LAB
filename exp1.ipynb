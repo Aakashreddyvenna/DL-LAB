{
 "cells": [
  {
   "cell_type": "code",
   "execution_count": 6,
   "id": "eab2cc7e-f6bf-404e-bf53-abfa0f10a996",
   "metadata": {},
   "outputs": [],
   "source": [
    "import os \n",
    "os.environ['TF_CPP_MIN_LOG_LEVEL']='2'\n",
    "import tensorflow as tf"
   ]
  },
  {
   "cell_type": "code",
   "execution_count": 8,
   "id": "41319ca6-db41-4f9d-b65d-137d56707dbd",
   "metadata": {},
   "outputs": [
    {
     "name": "stdout",
     "output_type": "stream",
     "text": [
      "(2, 3)\n"
     ]
    }
   ],
   "source": [
    "x=tf.constant(4.0)\n",
    "x=tf.constant(4,shape=(1,1),dtype=tf.float32)\n",
    "y=tf.constant([[1,2,3],[4,5,6]])\n",
    "print(y.shape)"
   ]
  },
  {
   "cell_type": "code",
   "execution_count": 13,
   "id": "3bf85dc3-8147-4895-9ded-90d58246f4cb",
   "metadata": {},
   "outputs": [
    {
     "name": "stdout",
     "output_type": "stream",
     "text": [
      "tf.Tensor(\n",
      "[[1. 1. 1.]\n",
      " [1. 1. 1.]\n",
      " [1. 1. 1.]], shape=(3, 3), dtype=float32)\n"
     ]
    }
   ],
   "source": [
    "x=tf.ones((3,3))\n",
    "print(x)"
   ]
  },
  {
   "cell_type": "code",
   "execution_count": 15,
   "id": "64eb570a-c531-41fa-bbbb-e159ce3e2bb1",
   "metadata": {},
   "outputs": [
    {
     "name": "stdout",
     "output_type": "stream",
     "text": [
      "tf.Tensor([0 0], shape=(2,), dtype=int32)\n"
     ]
    }
   ],
   "source": [
    "x=tf.zeros(2,3) #create matrix all zero\n",
    "print(x)"
   ]
  },
  {
   "cell_type": "code",
   "execution_count": 16,
   "id": "352ab7d6-f97a-4636-b640-52c311566d22",
   "metadata": {},
   "outputs": [
    {
     "name": "stdout",
     "output_type": "stream",
     "text": [
      "tf.Tensor(\n",
      "[[1. 0. 0.]\n",
      " [0. 1. 0.]\n",
      " [0. 0. 1.]], shape=(3, 3), dtype=float32)\n"
     ]
    }
   ],
   "source": [
    "x=tf.eye(3)  #create identity matrix\n",
    "print(x)"
   ]
  },
  {
   "cell_type": "code",
   "execution_count": 17,
   "id": "1c2a7893-eef6-49b0-ab2e-5a85415fa3e7",
   "metadata": {},
   "outputs": [
    {
     "name": "stdout",
     "output_type": "stream",
     "text": [
      "tf.Tensor(\n",
      "[[0. 0. 0.]\n",
      " [0. 0. 0.]\n",
      " [0. 0. 0.]], shape=(3, 3), dtype=float32)\n"
     ]
    }
   ],
   "source": [
    "x=tf.random.normal((3,3),mean=0,stddev=0)\n",
    "print(x)"
   ]
  },
  {
   "cell_type": "code",
   "execution_count": 18,
   "id": "5ec75a88-7ba9-4680-b39a-7f69286755c3",
   "metadata": {},
   "outputs": [
    {
     "name": "stdout",
     "output_type": "stream",
     "text": [
      "tf.Tensor(\n",
      "[[-0.97794956  2.0054207   0.13405737]\n",
      " [ 0.11586971 -0.83957577  0.2922889 ]\n",
      " [-0.98042226 -1.2464198   1.1004974 ]], shape=(3, 3), dtype=float32)\n"
     ]
    }
   ],
   "source": [
    "x=tf.random.normal((3,3),mean=0,stddev=1)\n",
    "print(x)"
   ]
  },
  {
   "cell_type": "code",
   "execution_count": 19,
   "id": "3133061a-d5cf-4838-9777-3b556df6ec8c",
   "metadata": {},
   "outputs": [
    {
     "name": "stdout",
     "output_type": "stream",
     "text": [
      "tf.Tensor([0 1 2 3 4 5 6 7 8], shape=(9,), dtype=int32)\n"
     ]
    }
   ],
   "source": [
    "x=tf.range(9)\n",
    "print(x)"
   ]
  },
  {
   "cell_type": "code",
   "execution_count": 22,
   "id": "44f2ba5b-288b-4f77-97fb-a2e26e755bcf",
   "metadata": {},
   "outputs": [
    {
     "name": "stdout",
     "output_type": "stream",
     "text": [
      "tf.Tensor([1 3 5 7 9], shape=(5,), dtype=int32)\n"
     ]
    }
   ],
   "source": [
    "x=tf.range(start=1,limit=10,delta=2)\n",
    "print(x)"
   ]
  },
  {
   "cell_type": "code",
   "execution_count": 28,
   "id": "51093b9f-64ab-412a-ad44-0a6ca40fb169",
   "metadata": {},
   "outputs": [
    {
     "name": "stdout",
     "output_type": "stream",
     "text": [
      "tf.Tensor(4.5, shape=(), dtype=float64)\n"
     ]
    }
   ],
   "source": [
    "x=4.5\n",
    "y=tf.cast(x,dtype=tf.float64)\n",
    "print(y)"
   ]
  },
  {
   "cell_type": "code",
   "execution_count": 30,
   "id": "e715b3f7-b96c-49ad-9e5f-a45a7b8eee48",
   "metadata": {},
   "outputs": [],
   "source": [
    "x=tf.constant([1,2,3])\n",
    "y=tf.constant([4,5,6])"
   ]
  },
  {
   "cell_type": "code",
   "execution_count": 31,
   "id": "674da18e-e5cb-4184-9721-0ca5a10dd587",
   "metadata": {},
   "outputs": [
    {
     "name": "stdout",
     "output_type": "stream",
     "text": [
      "tf.Tensor([5 7 9], shape=(3,), dtype=int32)\n"
     ]
    }
   ],
   "source": [
    "z=tf.add(x,y)\n",
    "print(z)"
   ]
  },
  {
   "cell_type": "code",
   "execution_count": 34,
   "id": "458aa2c1-890b-4890-b079-b3a52bc20817",
   "metadata": {},
   "outputs": [
    {
     "name": "stdout",
     "output_type": "stream",
     "text": [
      "tf.Tensor([-3 -3 -3], shape=(3,), dtype=int32)\n"
     ]
    }
   ],
   "source": [
    "z=tf.subtract(x,y)\n",
    "print(z)"
   ]
  },
  {
   "cell_type": "code",
   "execution_count": 35,
   "id": "98cb4b29-c5ce-4d5e-ab17-5ed4fda687dd",
   "metadata": {},
   "outputs": [
    {
     "name": "stdout",
     "output_type": "stream",
     "text": [
      "tf.Tensor([0.25 0.4  0.5 ], shape=(3,), dtype=float64)\n"
     ]
    }
   ],
   "source": [
    "z=tf.divide(x,y)\n",
    "print(z)"
   ]
  },
  {
   "cell_type": "code",
   "execution_count": 36,
   "id": "1b8f89be-669d-4ae1-a80a-364bb94a5ea6",
   "metadata": {},
   "outputs": [
    {
     "name": "stdout",
     "output_type": "stream",
     "text": [
      "tf.Tensor(32, shape=(), dtype=int32)\n"
     ]
    }
   ],
   "source": [
    "z=tf.tensordot(x,y,axes=1)\n",
    "print(z)"
   ]
  },
  {
   "cell_type": "code",
   "execution_count": 45,
   "id": "438b3838-a72c-446c-a63a-1a81968ddbae",
   "metadata": {},
   "outputs": [
    {
     "name": "stdout",
     "output_type": "stream",
     "text": [
      "tf.Tensor(\n",
      "[[-0.46576202 -0.8439353   1.5924757 ]\n",
      " [-0.19235891 -0.2697452   0.70468384]], shape=(2, 3), dtype=float32)\n",
      "tf.Tensor(\n",
      "[[ 0.72753406  0.61503077 -0.14617747  0.57499915 -0.37166488]\n",
      " [-1.1612573   0.00651349 -2.1153874  -1.0852351  -0.2606821 ]\n",
      " [-0.96722037  0.30396298 -1.1349614  -0.26756594 -0.6229776 ]], shape=(3, 5), dtype=float32)\n"
     ]
    }
   ],
   "source": [
    "x=tf.random.normal((2,3))\n",
    "y=tf.random.normal((3,5))\n",
    "print(x)\n",
    "print(y)\n"
   ]
  },
  {
   "cell_type": "code",
   "execution_count": 46,
   "id": "e9d23c8c-45bd-4df8-9c5a-645daaab1415",
   "metadata": {},
   "outputs": [
    {
     "name": "stdout",
     "output_type": "stream",
     "text": [
      "tf.Tensor(\n",
      "[[-0.8991066   0.1920987   0.04593575  0.2219632  -0.5989705 ]\n",
      " [-0.5082886   0.09413417 -0.20105481 -0.00641862 -0.29719144]], shape=(2, 5), dtype=float32)\n"
     ]
    }
   ],
   "source": [
    "z=tf.matmul(x,y)\n",
    "print(z)"
   ]
  },
  {
   "cell_type": "code",
   "execution_count": 47,
   "id": "e2a4f866-34be-48bf-bbfa-5161ff971c3e",
   "metadata": {},
   "outputs": [
    {
     "name": "stdout",
     "output_type": "stream",
     "text": [
      "Ragged Tensor:\n",
      "<tf.RaggedTensor [[1, 2], [3, 4, 5], [6], [7, 8, 9, 10]]>\n"
     ]
    }
   ],
   "source": [
    "import tensorflow as tf\n",
    "\n",
    "ragged_data = [[1, 2],\n",
    "               [3, 4, 5],\n",
    "               [6],\n",
    "               [7, 8, 9, 10]]\n",
    "ragged_tensor = tf.ragged.constant(ragged_data)\n",
    "print(\"Ragged Tensor:\")\n",
    "print(ragged_tensor)"
   ]
  },
  {
   "cell_type": "code",
   "execution_count": 51,
   "id": "fa015587-3b1e-4325-895c-b0b006fe6085",
   "metadata": {},
   "outputs": [
    {
     "name": "stdout",
     "output_type": "stream",
     "text": [
      "Sparse Tensor:\n",
      "SparseTensor(indices=tf.Tensor(\n",
      "[[0 2]\n",
      " [2 1]], shape=(2, 2), dtype=int64), values=tf.Tensor([3 2], shape=(2,), dtype=int32), dense_shape=tf.Tensor([3 4], shape=(2,), dtype=int64))\n"
     ]
    }
   ],
   "source": [
    "import tensorflow as tf\n",
    "dense_data = [[0, 0, 3, 0],\n",
    "              [0, 0, 0, 0],\n",
    "              [0, 2, 0, 0]]\n",
    "sparse_tensor = tf.sparse.from_dense(dense_data)\n",
    "print(\"Sparse Tensor:\")\n",
    "print(sparse_tensor)"
   ]
  },
  {
   "cell_type": "code",
   "execution_count": null,
   "id": "8bb3e58c-8c0b-43a4-9223-c889459a4c61",
   "metadata": {},
   "outputs": [],
   "source": []
  }
 ],
 "metadata": {
  "kernelspec": {
   "display_name": "Python 3 (ipykernel)",
   "language": "python",
   "name": "python3"
  },
  "language_info": {
   "codemirror_mode": {
    "name": "ipython",
    "version": 3
   },
   "file_extension": ".py",
   "mimetype": "text/x-python",
   "name": "python",
   "nbconvert_exporter": "python",
   "pygments_lexer": "ipython3",
   "version": "3.8.10"
  }
 },
 "nbformat": 4,
 "nbformat_minor": 5
}
